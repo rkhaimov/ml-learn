{
 "cells": [
  {
   "cell_type": "markdown",
   "source": [
    "Linear regression predicts the outcome using this formula:\n",
    "\n",
    "$$ p=\\mathbf{x}^{\\intercal}\\mathbf{\\theta}, p \\in \\mathbb{R} $$\n",
    "\n",
    "The subject of learning is to pick $\\mathbf{\\theta}$ that minimizes:\n",
    "\n",
    "$$ J(\\mathbf{\\theta}) = \\frac{1}{2}|\\mathbf{X}\\mathbf{\\theta} - \\mathbf{y}|_2^2 $$\n",
    "\n",
    "Let's find derivative of the function:\n",
    "\n",
    "$$ \\frac{d}{d\\mathbf{\\theta}}J(\\mathbf{\\theta})=\\mathbf{X}^{\\intercal}(\\mathbf{X}\\mathbf{\\theta} - \\mathbf{y}) $$\n",
    "\n",
    "Function is *convex*, global minimum is when slope is 0:\n",
    "\n",
    "$$ \\mathbf{X}^{\\intercal}(\\mathbf{X}\\mathbf{\\theta} - \\mathbf{y}) = 0  $$\n",
    "\n",
    "$$ \\mathbf{X}^{\\intercal}\\mathbf{X}\\mathbf{\\theta} - \\mathbf{X}^{\\intercal}\\mathbf{y} = 0  $$\n",
    "\n",
    "$$ \\mathbf{X}^{\\intercal}\\mathbf{X}\\mathbf{\\theta} = \\mathbf{X}^{\\intercal}\\mathbf{y}  $$\n",
    "\n",
    "$$ \\mathbf{\\theta} = (\\mathbf{X}^{\\intercal}\\mathbf{X})^{-1}\\mathbf{X}^{\\intercal}\\mathbf{y} $$\n",
    "\n",
    "Last piece is called *normal equation*.\n"
   ],
   "metadata": {
    "collapsed": false,
    "pycharm": {
     "name": "#%% md\n"
    }
   }
  },
  {
   "cell_type": "code",
   "execution_count": 46,
   "metadata": {
    "collapsed": true,
    "pycharm": {
     "name": "#%%\n"
    }
   },
   "outputs": [
    {
     "data": {
      "text/plain": "<Figure size 432x288 with 1 Axes>",
      "image/png": "[encoded data removed]"
     },
     "metadata": {
      "needs_background": "light"
     },
     "output_type": "display_data"
    }
   ],
   "source": [
    "import numpy as np\n",
    "import matplotlib.pyplot as plt\n",
    "\n",
    "Xtrain = np.linspace(0, 10, 10).reshape([-1, 1])\n",
    "ytrain = Xtrain * 2\n",
    "\n",
    "\n",
    "def learn(X: np.ndarray, y: np.ndarray):\n",
    "    Xb = np.column_stack([np.ones([X.shape[0], 1]), X])\n",
    "\n",
    "    return np.linalg.inv(Xb.transpose().dot(Xb)).dot(Xb.transpose()).dot(y)\n",
    "\n",
    "\n",
    "def predict(X: np.ndarray, theta: np.ndarray):\n",
    "    Xb = np.column_stack([np.ones([X.shape[0], 1]), X])\n",
    "\n",
    "    return Xb.dot(theta)\n",
    "\n",
    "\n",
    "theta = learn(Xtrain, ytrain)\n",
    "\n",
    "plt.plot(Xtrain, ytrain, '*g')\n",
    "plt.plot(Xtrain, ytrain, '*g')\n",
    "\n",
    "Xtest = np.linspace(0, 30, 30)\n",
    "ytest = predict(Xtest, theta)\n",
    "\n",
    "plt.plot(Xtest, ytest, '-');"
   ]
  },
  {
   "cell_type": "code",
   "execution_count": null,
   "outputs": [],
   "source": [],
   "metadata": {
    "collapsed": false,
    "pycharm": {
     "name": "#%%\n"
    }
   }
  }
 ],
 "metadata": {
  "kernelspec": {
   "display_name": "Python 3",
   "language": "python",
   "name": "python3"
  },
  "language_info": {
   "codemirror_mode": {
    "name": "ipython",
    "version": 2
   },
   "file_extension": ".py",
   "mimetype": "text/x-python",
   "name": "python",
   "nbconvert_exporter": "python",
   "pygments_lexer": "ipython2",
   "version": "2.7.6"
  }
 },
 "nbformat": 4,
 "nbformat_minor": 0
}