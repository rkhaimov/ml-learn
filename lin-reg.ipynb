{
 "cells": [
  {
   "cell_type": "markdown",
   "source": [
    "Linear regression predicts the outcome using this formula:\n",
    "\n",
    "$$ p=\\mathbf{x}^{\\intercal}\\mathbf{\\theta}, p \\in \\mathbb{R} $$\n",
    "\n",
    "The subject of learning is to pick $\\mathbf{\\theta}$ that minimizes:\n",
    "\n",
    "$$ J(\\mathbf{\\theta}) = \\frac{1}{2}|\\mathbf{X}\\mathbf{\\theta} - \\mathbf{y}|_2^2 $$\n",
    "\n",
    "Let's find derivative of the function:\n",
    "\n",
    "$$ \\frac{d}{d\\mathbf{\\theta}}J(\\mathbf{\\theta})=\\mathbf{X}^{\\intercal}(\\mathbf{X}\\mathbf{\\theta} - \\mathbf{y}) $$\n",
    "\n",
    "Function is *convex*, global minimum is when slope is 0:\n",
    "\n",
    "$$ \\mathbf{X}^{\\intercal}(\\mathbf{X}\\mathbf{\\theta} - \\mathbf{y}) = 0  $$\n",
    "\n",
    "$$ \\mathbf{X}^{\\intercal}\\mathbf{X}\\mathbf{\\theta} - \\mathbf{X}^{\\intercal}\\mathbf{y} = 0  $$\n",
    "\n",
    "$$ \\mathbf{X}^{\\intercal}\\mathbf{X}\\mathbf{\\theta} = \\mathbf{X}^{\\intercal}\\mathbf{y}  $$\n",
    "\n",
    "$$ \\mathbf{\\theta} = (\\mathbf{X}^{\\intercal}\\mathbf{X})^{-1}\\mathbf{X}^{\\intercal}\\mathbf{y} $$\n",
    "\n",
    "Last piece is called *normal equation*.\n"
   ],
   "metadata": {
    "collapsed": false,
    "pycharm": {
     "name": "#%% md\n"
    }
   }
  },
  {
   "cell_type": "code",
   "execution_count": 176,
   "metadata": {
    "collapsed": true,
    "pycharm": {
     "name": "#%%\n"
    }
   },
   "outputs": [],
   "source": [
    "import numpy as np\n",
    "import matplotlib.pyplot as plt\n",
    "\n",
    "\n",
    "def learn_normal(X: np.ndarray, y: np.ndarray):\n",
    "    Xb = np.column_stack([np.ones([X.shape[0], 1]), X])\n",
    "\n",
    "    return np.linalg.inv(Xb.transpose().dot(Xb)).dot(Xb.transpose()).dot(y)\n",
    "\n",
    "\n",
    "def learn_bgd(X: np.ndarray, y: np.ndarray, total_epoches=10, lr=1):\n",
    "    Xb = np.column_stack([np.ones([X.shape[0], 1]), X])\n",
    "\n",
    "    theta = np.ones(Xb.shape[1])\n",
    "    history = []\n",
    "    for epoch in range(0, total_epoches):\n",
    "        history.append(cost(predict(X, theta), y))\n",
    "\n",
    "        theta = theta - lr * (Xb.transpose().dot(Xb.dot(theta) - y))\n",
    "\n",
    "    return theta, history\n",
    "\n",
    "\n",
    "def cost(hx: np.ndarray, y: np.ndarray):\n",
    "    return np.inner(hx - y, hx - y) * 1 / (2 * hx.shape[0])\n",
    "\n",
    "\n",
    "def predict(X: np.ndarray, theta: np.ndarray):\n",
    "    Xb = np.column_stack([np.ones([X.shape[0], 1]), X])\n",
    "\n",
    "    return Xb.dot(theta)\n"
   ]
  },
  {
   "cell_type": "code",
   "execution_count": 177,
   "outputs": [
    {
     "data": {
      "text/plain": "5.031982614660054"
     },
     "execution_count": 177,
     "metadata": {},
     "output_type": "execute_result"
    }
   ],
   "source": [
    "import sklearn.datasets as datasets\n",
    "\n",
    "np.random.seed(42)\n",
    "X, y = datasets.make_regression(10, 1, noise=3)\n",
    "\n",
    "theta = learn_normal(X, y)\n",
    "\n",
    "cost(predict(X, theta), y)"
   ],
   "metadata": {
    "collapsed": false,
    "pycharm": {
     "name": "#%%\n"
    }
   }
  },
  {
   "cell_type": "code",
   "execution_count": 178,
   "outputs": [
    {
     "data": {
      "text/plain": "5.0663984786216245"
     },
     "execution_count": 178,
     "metadata": {},
     "output_type": "execute_result"
    },
    {
     "data": {
      "text/plain": "<Figure size 432x288 with 1 Axes>",
      "image/png": "[encoded data removed]"
     },
     "metadata": {
      "needs_background": "light"
     },
     "output_type": "display_data"
    }
   ],
   "source": [
    "theta, history = learn_bgd(X, y, total_epoches=100, lr=0.01)\n",
    "\n",
    "plt.plot(np.arange(0, len(history)), history)\n",
    "\n",
    "cost(predict(X, theta), y)"
   ],
   "metadata": {
    "collapsed": false,
    "pycharm": {
     "name": "#%%\n"
    }
   }
  },
  {
   "cell_type": "markdown",
   "source": [
    "Let's add extra features to make final equation to be polynomial"
   ],
   "metadata": {
    "collapsed": false,
    "pycharm": {
     "name": "#%% md\n"
    }
   }
  },
  {
   "cell_type": "code",
   "execution_count": 179,
   "outputs": [
    {
     "data": {
      "text/plain": "3.9849400429711395"
     },
     "execution_count": 179,
     "metadata": {},
     "output_type": "execute_result"
    }
   ],
   "source": [
    "def extend(X: np.array):\n",
    "    return np.column_stack([X, np.power(X, 2)])\n",
    "\n",
    "\n",
    "theta, history = learn_bgd(extend(X), y, total_epoches=100, lr=0.01)\n",
    "\n",
    "cost(predict(extend(X), theta), y)"
   ],
   "metadata": {
    "collapsed": false,
    "pycharm": {
     "name": "#%%\n"
    }
   }
  }
 ],
 "metadata": {
  "kernelspec": {
   "display_name": "Python 3",
   "language": "python",
   "name": "python3"
  },
  "language_info": {
   "codemirror_mode": {
    "name": "ipython",
    "version": 2
   },
   "file_extension": ".py",
   "mimetype": "text/x-python",
   "name": "python",
   "nbconvert_exporter": "python",
   "pygments_lexer": "ipython2",
   "version": "2.7.6"
  }
 },
 "nbformat": 4,
 "nbformat_minor": 0
}