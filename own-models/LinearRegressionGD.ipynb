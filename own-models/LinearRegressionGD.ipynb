{
 "cells": [
  {
   "cell_type": "code",
   "execution_count": 216,
   "metadata": {
    "collapsed": true
   },
   "outputs": [],
   "source": [
    "import numpy as np\n",
    "import matplotlib.pyplot as plt\n",
    "\n",
    "np.random.seed(42)"
   ]
  },
  {
   "cell_type": "code",
   "execution_count": 283,
   "outputs": [],
   "source": [
    "class LinearRegressionGD:\n",
    "    def fit(self, X, y_true):\n",
    "        X_biased = np.c_[np.ones((X.shape[0], 1)), X]\n",
    "        self.weights = np.random.rand(1, X_biased.shape[1])\n",
    "\n",
    "        epochs = 1_000\n",
    "        learning_rate = 0.0001\n",
    "\n",
    "        for epoch in range(epochs):\n",
    "            slopes = self._gradient(X, y_true)\n",
    "\n",
    "            self.weights = self.weights + slopes * learning_rate\n",
    "\n",
    "        return self\n",
    "\n",
    "    def predict(self, X):\n",
    "        X_biased = np.c_[np.ones((X.shape[0], 1)), X]\n",
    "\n",
    "        return np.sum(X_biased * self.weights, axis=1).reshape(-1, 1)\n",
    "\n",
    "    def error(self, X, y_true):\n",
    "        return np.sum(np.square(y_true - self.predict(X)))\n",
    "\n",
    "    def _gradient(self, X, y_true):\n",
    "        X_biased = np.c_[np.ones((X.shape[0], 1)), X]\n",
    "        errors = y_true - self.predict(X)\n",
    "\n",
    "        return np.sum(errors * X_biased, axis=0)"
   ],
   "metadata": {
    "collapsed": false,
    "pycharm": {
     "name": "#%%\n"
    }
   }
  },
  {
   "cell_type": "code",
   "execution_count": 284,
   "outputs": [],
   "source": [
    "strategies = np.array([\n",
    "    np.array([0, 6, 6, 6, 14, 0, 1, 1, 1, 0, 3, 0, 1, 1, 1, 1]),\n",
    "    np.array([0, 0, 6, 6, 8, 1, 1, 1, 1, 2, 3, 0, 0, 0, 1, 1]),\n",
    "    np.array([0, 0, 6, 6, 9, 1, 1, 1, 1, 1, 3, 0, 0, 1, 1, 1]),\n",
    "    np.array([0, 0, 0, 6, 6, 0, 1, 1, 1, 1, 3, 0, 0, 0, 1, 1]),\n",
    "    np.array([0, 6, 6, 8, 8, 1, 1, 1, 1, 2, 3, 0, 1, 1, 1, 0]),\n",
    "    np.array([0, 0, 0, 6, 9, 1, 1, 1, 1, 1, 3, 0, 0, 0, 1, 1]),\n",
    "    np.array([0, 6, 6, 6, 10, 1, 1, 1, 1, 1, 3, 0, 0, 1, 1, 1]),\n",
    "    np.array([5, 6, 6, 6, 8, 1, 1, 1, 1, 2, 3, 0, 1, 1, 1, 0]),\n",
    "    np.array([0, 0, 0, 0, 5, 1, 1, 1, 1, 1, 3, 0, 0, 0, 0, 1]),\n",
    "    np.array([0, 0, 0, 0, 10, 1, 1, 1, 2, 1, 3, 0, 0, 0, 0, 1]),\n",
    "    np.array([0, 0, 0, 0, 9, 0, 1, 1, 2, 1, 3, 0, 0, 0, 0, 1]),\n",
    "    np.array([0, 4, 8, 9, 10, 2, 1, 2, 1, 1, 3, 0, 1, 0, 1, 1]),\n",
    "    np.array([0, 6, 6, 8, 12, 2, 1, 1, 1, 1, 3, 0, 0, 1, 1, 1]),\n",
    "    np.array([0, 0, 0, 0, 0, 0, 1, 1, 1, 2, 3, 0, 0, 0, 0, 0]),\n",
    "    np.array([0, 0, 9, 9, 18, 0, 1, 1, 1, 1, 2, 0, 0, 0, 1, 1]),\n",
    "    np.array([0, 0, 4, 8, 8, 0, 1, 1, 1, 2, 3, 0, 0, 1, 1, 1]),\n",
    "    np.array([0, 0, 0, 12, 12, 0, 0, 1, 1, 2, 2, 0, 0, 0, 0, 1]),\n",
    "    np.array([0, 0, 6, 6, 8, 1, 3, 1, 1, 2, 3, 0, 0, 0, 1, 1]),\n",
    "    np.array([0, 6, 6, 6, 6, 0, 1, 1, 1, 1, 2, 0, 0, 0, 1, 1])\n",
    "])\n",
    "\n",
    "X = strategies[:, :-5]\n",
    "y = strategies[:, 11:]"
   ],
   "metadata": {
    "collapsed": false,
    "pycharm": {
     "name": "#%%\n"
    }
   }
  },
  {
   "cell_type": "code",
   "execution_count": 287,
   "outputs": [],
   "source": [
    "regressors = []\n",
    "\n",
    "for _ in range(y.shape[1]):\n",
    "    regressors.append(LinearRegressionGD())\n",
    "\n",
    "for index, regressor in enumerate(regressors):\n",
    "    regressor.fit(X, (y[:, index]).reshape(-1, 1))"
   ],
   "metadata": {
    "collapsed": false,
    "pycharm": {
     "name": "#%%\n"
    }
   }
  },
  {
   "cell_type": "code",
   "execution_count": 303,
   "outputs": [
    {
     "data": {
      "text/plain": "5.3465207764849065"
     },
     "execution_count": 303,
     "metadata": {},
     "output_type": "execute_result"
    }
   ],
   "source": [
    "# [0, 6, 6, 6, 6, 0, 1, 1, 1, 1, 2, 0, 0, 0, 1, 1]\n",
    "\n",
    "X_test = np.array([\n",
    "    np.array([0, 6, 6, 6, 6, 0, 1, 1, 1, 1, 2])\n",
    "])\n",
    "\n",
    "index = 2\n",
    "regressors[index].error(X, (y[:, index]).reshape(-1, 1))"
   ],
   "metadata": {
    "collapsed": false,
    "pycharm": {
     "name": "#%%\n"
    }
   }
  }
 ],
 "metadata": {
  "kernelspec": {
   "display_name": "Python 3",
   "language": "python",
   "name": "python3"
  },
  "language_info": {
   "codemirror_mode": {
    "name": "ipython",
    "version": 2
   },
   "file_extension": ".py",
   "mimetype": "text/x-python",
   "name": "python",
   "nbconvert_exporter": "python",
   "pygments_lexer": "ipython2",
   "version": "2.7.6"
  }
 },
 "nbformat": 4,
 "nbformat_minor": 0
}