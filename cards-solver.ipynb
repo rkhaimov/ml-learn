{
 "cells": [
  {
   "cell_type": "code",
   "execution_count": 17,
   "outputs": [],
   "source": [
    "import numpy as np\n",
    "import matplotlib.pyplot as plt"
   ],
   "metadata": {
    "collapsed": false,
    "pycharm": {
     "name": "#%%\n"
    }
   }
  },
  {
   "cell_type": "code",
   "execution_count": 59,
   "outputs": [],
   "source": [
    "strategies = np.array([\n",
    "    np.array([0, 6, 6, 6, 14, 0, 1, 1, 1, 0, 3, 0, 1, 1, 1, 1]),\n",
    "    np.array([0, 0, 6, 6, 8, 1, 1, 1, 1, 2, 3, 0, 0, 0, 1, 1]),\n",
    "    np.array([0, 0, 6, 6, 9, 1, 1, 1, 1, 1, 3, 0, 0, 1, 1, 1]),\n",
    "    np.array([0, 0, 0, 6, 6, 0, 1, 1, 1, 1, 3, 0, 0, 0, 1, 1]),\n",
    "    np.array([0, 6, 6, 8, 8, 1, 1, 1, 1, 2, 3, 0, 1, 1, 1, 0]),\n",
    "    np.array([0, 0, 0, 6, 9, 1, 1, 1, 1, 1, 3, 0, 0, 0, 1, 1]),\n",
    "    np.array([0, 6, 6, 6, 10, 1, 1, 1, 1, 1, 3, 0, 0, 1, 1, 1]),\n",
    "    np.array([5, 6, 6, 6, 8, 1, 1, 1, 1, 2, 3, 0, 1, 1, 1, 0]),\n",
    "    np.array([0, 0, 0, 0, 5, 1, 1, 1, 1, 1, 3, 0, 0, 0, 0, 1]),\n",
    "    np.array([0, 0, 0, 0, 10, 1, 1, 1, 2, 1, 3, 0, 0, 0, 0, 1]),\n",
    "    np.array([0, 0, 0, 0, 9, 0, 1, 1, 2, 1, 3, 0, 0, 0, 0, 1]),\n",
    "    np.array([0, 4, 8, 9, 10, 2, 1, 2, 1, 1, 3, 0, 1, 0, 1, 1]),\n",
    "    np.array([0, 6, 6, 8, 12, 2, 1, 1, 1, 1, 3, 0, 0, 1, 1, 1]),\n",
    "    np.array([0, 0, 0, 0, 0, 0, 1, 1, 1, 2, 3, 0, 0, 0, 0, 0]),\n",
    "    np.array([0, 0, 9, 9, 18, 0, 1, 1, 1, 1, 2, 0, 0, 0, 1, 1]),\n",
    "    np.array([0, 0, 4, 8, 8, 0, 1, 1, 1, 2, 3, 0, 0, 1, 1, 1]),\n",
    "    np.array([0, 0, 0, 12, 12, 0, 0, 1, 1, 2, 2, 0, 0, 0, 0, 1]),\n",
    "    np.array([0, 0, 6, 6, 8, 1, 3, 1, 1, 2, 3, 0, 0, 0, 1, 1]),\n",
    "    np.array([0, 6, 6, 6, 6, 0, 1, 1, 1, 1, 2, 0, 0, 0, 1, 1])\n",
    "])\n",
    "\n",
    "X = strategies[:, :-5]\n",
    "y = strategies[:, 11:]"
   ],
   "metadata": {
    "collapsed": false,
    "pycharm": {
     "name": "#%%\n"
    }
   }
  },
  {
   "cell_type": "code",
   "execution_count": 60,
   "outputs": [
    {
     "data": {
      "text/plain": "MultiOutputRegressor(estimator=LinearRegression())"
     },
     "execution_count": 60,
     "metadata": {},
     "output_type": "execute_result"
    }
   ],
   "source": [
    "from sklearn.multioutput import MultiOutputRegressor\n",
    "from sklearn.linear_model import LinearRegression\n",
    "from sklearn.preprocessing import StandardScaler\n",
    "\n",
    "lin_reg = MultiOutputRegressor(LinearRegression())\n",
    "scaler = StandardScaler()\n",
    "\n",
    "lin_reg.fit(scaler.fit_transform(X), y)"
   ],
   "metadata": {
    "collapsed": false,
    "pycharm": {
     "name": "#%%\n"
    }
   }
  },
  {
   "cell_type": "code",
   "execution_count": 65,
   "outputs": [
    {
     "data": {
      "text/plain": "(array([6, 6, 6]), array([False,  True,  True,  True, False]))"
     },
     "execution_count": 65,
     "metadata": {},
     "output_type": "execute_result"
    }
   ],
   "source": [
    "example = np.array([6, 6, 6, 6, 8, 1, 1, 1, 1, 2, 3])\n",
    "\n",
    "prediction = lin_reg.predict(scaler.transform([\n",
    "    example,\n",
    "]))\n",
    "\n",
    "example[:5][prediction.ravel() >= 0.5], prediction.ravel() >= 0.5"
   ],
   "metadata": {
    "collapsed": false,
    "pycharm": {
     "name": "#%%\n"
    }
   }
  }
 ],
 "metadata": {
  "kernelspec": {
   "display_name": "Python 3",
   "language": "python",
   "name": "python3"
  },
  "language_info": {
   "codemirror_mode": {
    "name": "ipython",
    "version": 2
   },
   "file_extension": ".py",
   "mimetype": "text/x-python",
   "name": "python",
   "nbconvert_exporter": "python",
   "pygments_lexer": "ipython2",
   "version": "2.7.6"
  }
 },
 "nbformat": 4,
 "nbformat_minor": 0
}