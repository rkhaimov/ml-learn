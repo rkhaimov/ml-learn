{
 "cells": [
  {
   "cell_type": "code",
   "execution_count": 270,
   "outputs": [],
   "source": [
    "import numpy as np\n",
    "import matplotlib.pyplot as plt\n"
   ],
   "metadata": {
    "collapsed": false,
    "pycharm": {
     "name": "#%%\n"
    }
   }
  },
  {
   "cell_type": "code",
   "execution_count": 271,
   "outputs": [],
   "source": [
    "X_train = [\n",
    "    [np.array([1, 1, 1, 1, 6, 5, 12]), np.array([1, 1, 1, 1, 1, 1, 1]), 3],\n",
    "    [np.array([0, 0, 0, 0, 0, 1, 12]), np.array([1, 1, 1, 1, 1, 1, 1]), 3],\n",
    "    [np.array([1, 1, 1, 1, 1, 1, 1]), np.array([1, 1, 1, 1, 1, 1, 1]), 3],\n",
    "    [np.array([4, 6, 8, 14, 16, 18, 50]), np.array([1, 1, 1, 1, 1, 1, 1]), 3],\n",
    "    [np.array([0, 0, 0, 0, 0, 50, 50]), np.array([1, 1, 1, 1, 1, 1, 1]), 3],\n",
    "    [np.array([5, 5, 5, 5, 5, 5, 5]), np.array([1, 1, 1, 1, 1, 1, 1]), 3],\n",
    "]\n",
    "\n",
    "y_train = [\n",
    "    6 + 5 + 12,\n",
    "    1 + 12,\n",
    "    3,\n",
    "    16 + 18 + 50,\n",
    "    50 + 50,\n",
    "    5 + 5 + 5\n",
    "]"
   ],
   "metadata": {
    "collapsed": false,
    "pycharm": {
     "name": "#%%\n"
    }
   }
  },
  {
   "cell_type": "code",
   "execution_count": 272,
   "outputs": [],
   "source": [
    "X_test = [\n",
    "    [np.array([0, 0, 0, 14, 14, 28, 50]), np.array([1, 1, 1, 1, 1, 1, 1]), 3],\n",
    "    [np.array([0, 0, 0, 0, 0, 30, 30]), np.array([1, 1, 1, 1, 1, 1, 1]), 3],\n",
    "    [np.array([8, 8, 8, 8, 8, 8, 8]), np.array([1, 1, 1, 1, 1, 1, 1]), 3],\n",
    "]\n",
    "\n",
    "y_test = [\n",
    "    14 + 28 + 50,\n",
    "    30 + 30,\n",
    "    8 + 8 + 8\n",
    "]"
   ],
   "metadata": {
    "collapsed": false,
    "pycharm": {
     "name": "#%%\n"
    }
   }
  },
  {
   "cell_type": "code",
   "execution_count": 273,
   "outputs": [],
   "source": [
    "from functools import reduce\n",
    "\n",
    "def loss_fnc(y_true, X, weights):\n",
    "    results = list(map(lambda x: predict_for_x(weights, x), X))\n",
    "\n",
    "    def squared_distance(accumulated, index_value):\n",
    "        (index, value) = index_value\n",
    "\n",
    "        return accumulated + np.square(y_true[index] - value)\n",
    "\n",
    "    return reduce(squared_distance, enumerate(results), 0)\n",
    "\n",
    "def predict_for_x(weights, x):\n",
    "    damages, _, _ = x\n",
    "    result = 0\n",
    "\n",
    "    for index, weight in enumerate(weights):\n",
    "        result += weight * damages[index]\n",
    "\n",
    "    return result\n",
    "\n",
    "def line_slope_at(y_true, X, weights, d_index):\n",
    "    error = 0\n",
    "\n",
    "    for x_index, x in enumerate(X):\n",
    "        damage, _, _ = x\n",
    "\n",
    "        error += damage[d_index] * (y_true[x_index] - predict_for_x(weights, x))\n",
    "\n",
    "\n",
    "    return -2 * error"
   ],
   "metadata": {
    "collapsed": false,
    "pycharm": {
     "name": "#%%\n"
    }
   }
  },
  {
   "cell_type": "code",
   "execution_count": 274,
   "outputs": [],
   "source": [
    "epochs = 5000\n",
    "learning_rate = 0.0001\n",
    "\n",
    "next_weights = [0, 1, 2, 2, 4, 5, 6]\n",
    "prev_weights = next_weights.copy()\n",
    "\n",
    "for _ in range(epochs):\n",
    "    for index, weight in enumerate(prev_weights):\n",
    "        slope = line_slope_at(y_train, X_train, prev_weights, index)\n",
    "\n",
    "        step_size = slope * learning_rate\n",
    "\n",
    "        next_weights[index] = weight - step_size\n",
    "\n",
    "    prev_weights = next_weights.copy()\n"
   ],
   "metadata": {
    "collapsed": false,
    "pycharm": {
     "name": "#%%\n"
    }
   }
  },
  {
   "cell_type": "code",
   "execution_count": 306,
   "outputs": [
    {
     "name": "stderr",
     "output_type": "stream",
     "text": [
      "C:\\Users\\Khaimov\\AppData\\Local\\Temp/ipykernel_7592/2528221380.py:2: VisibleDeprecationWarning: Creating an ndarray from ragged nested sequences (which is a list-or-tuple of lists-or-tuples-or ndarrays with different lengths or shapes) is deprecated. If you meant to do this, you must specify 'dtype=object' when creating the ndarray\n",
      "  np.hstack(np.array(X_test)[0]),\n",
      "C:\\Users\\Khaimov\\AppData\\Local\\Temp/ipykernel_7592/2528221380.py:3: VisibleDeprecationWarning: Creating an ndarray from ragged nested sequences (which is a list-or-tuple of lists-or-tuples-or ndarrays with different lengths or shapes) is deprecated. If you meant to do this, you must specify 'dtype=object' when creating the ndarray\n",
      "  np.hstack(np.array(X_test)[1]),\n",
      "C:\\Users\\Khaimov\\AppData\\Local\\Temp/ipykernel_7592/2528221380.py:4: VisibleDeprecationWarning: Creating an ndarray from ragged nested sequences (which is a list-or-tuple of lists-or-tuples-or ndarrays with different lengths or shapes) is deprecated. If you meant to do this, you must specify 'dtype=object' when creating the ndarray\n",
      "  np.hstack(np.array(X_test)[2]),\n",
      "C:\\Users\\Khaimov\\AppData\\Local\\Temp/ipykernel_7592/2528221380.py:10: VisibleDeprecationWarning: Creating an ndarray from ragged nested sequences (which is a list-or-tuple of lists-or-tuples-or ndarrays with different lengths or shapes) is deprecated. If you meant to do this, you must specify 'dtype=object' when creating the ndarray\n",
      "  np.hstack(np.array(X_train)[0]),\n",
      "C:\\Users\\Khaimov\\AppData\\Local\\Temp/ipykernel_7592/2528221380.py:11: VisibleDeprecationWarning: Creating an ndarray from ragged nested sequences (which is a list-or-tuple of lists-or-tuples-or ndarrays with different lengths or shapes) is deprecated. If you meant to do this, you must specify 'dtype=object' when creating the ndarray\n",
      "  np.hstack(np.array(X_train)[1]),\n",
      "C:\\Users\\Khaimov\\AppData\\Local\\Temp/ipykernel_7592/2528221380.py:12: VisibleDeprecationWarning: Creating an ndarray from ragged nested sequences (which is a list-or-tuple of lists-or-tuples-or ndarrays with different lengths or shapes) is deprecated. If you meant to do this, you must specify 'dtype=object' when creating the ndarray\n",
      "  np.hstack(np.array(X_train)[2]),\n",
      "C:\\Users\\Khaimov\\AppData\\Local\\Temp/ipykernel_7592/2528221380.py:13: VisibleDeprecationWarning: Creating an ndarray from ragged nested sequences (which is a list-or-tuple of lists-or-tuples-or ndarrays with different lengths or shapes) is deprecated. If you meant to do this, you must specify 'dtype=object' when creating the ndarray\n",
      "  np.hstack(np.array(X_train)[3]),\n",
      "C:\\Users\\Khaimov\\AppData\\Local\\Temp/ipykernel_7592/2528221380.py:14: VisibleDeprecationWarning: Creating an ndarray from ragged nested sequences (which is a list-or-tuple of lists-or-tuples-or ndarrays with different lengths or shapes) is deprecated. If you meant to do this, you must specify 'dtype=object' when creating the ndarray\n",
      "  np.hstack(np.array(X_train)[4]),\n",
      "C:\\Users\\Khaimov\\AppData\\Local\\Temp/ipykernel_7592/2528221380.py:15: VisibleDeprecationWarning: Creating an ndarray from ragged nested sequences (which is a list-or-tuple of lists-or-tuples-or ndarrays with different lengths or shapes) is deprecated. If you meant to do this, you must specify 'dtype=object' when creating the ndarray\n",
      "  np.hstack(np.array(X_train)[5]),\n"
     ]
    }
   ],
   "source": [
    "X_test_fixed = np.array([\n",
    "    np.hstack(np.array(X_test)[0]),\n",
    "    np.hstack(np.array(X_test)[1]),\n",
    "    np.hstack(np.array(X_test)[2]),\n",
    "])\n",
    "\n",
    "y_test_fixed = np.array(y_test).reshape(-1, 1)\n",
    "\n",
    "X_train_fixed = np.array([\n",
    "    np.hstack(np.array(X_train)[0]),\n",
    "    np.hstack(np.array(X_train)[1]),\n",
    "    np.hstack(np.array(X_train)[2]),\n",
    "    np.hstack(np.array(X_train)[3]),\n",
    "    np.hstack(np.array(X_train)[4]),\n",
    "    np.hstack(np.array(X_train)[5]),\n",
    "])\n",
    "\n",
    "y_train_fixed = np.array(y_train).reshape(-1, 1)"
   ],
   "metadata": {
    "collapsed": false,
    "pycharm": {
     "name": "#%%\n"
    }
   }
  },
  {
   "cell_type": "code",
   "execution_count": 308,
   "outputs": [
    {
     "data": {
      "text/plain": "LinearRegression()"
     },
     "execution_count": 308,
     "metadata": {},
     "output_type": "execute_result"
    }
   ],
   "source": [
    "from sklearn.linear_model import LinearRegression\n",
    "\n",
    "lin_reg = LinearRegression()\n",
    "\n",
    "lin_reg.fit(X_train_fixed, y_train_fixed)\n"
   ],
   "metadata": {
    "collapsed": false,
    "pycharm": {
     "name": "#%%\n"
    }
   }
  },
  {
   "cell_type": "code",
   "execution_count": 310,
   "outputs": [
    {
     "data": {
      "text/plain": "1.0"
     },
     "execution_count": 310,
     "metadata": {},
     "output_type": "execute_result"
    }
   ],
   "source": [
    "lin_reg.score(X_test_fixed, y_test_fixed)"
   ],
   "metadata": {
    "collapsed": false,
    "pycharm": {
     "name": "#%%\n"
    }
   }
  },
  {
   "cell_type": "code",
   "execution_count": 319,
   "outputs": [
    {
     "name": "stdout",
     "output_type": "stream",
     "text": [
      "39.07860260388538\n"
     ]
    },
    {
     "data": {
      "text/plain": "array([[41.]])"
     },
     "execution_count": 319,
     "metadata": {},
     "output_type": "execute_result"
    }
   ],
   "source": [
    "print(predict_for_x(next_weights, [[0, 0, 0, 6, 9, 12, 20], [0, 0, 1, 1, 1, 2, 2], 3]))\n",
    "\n",
    "lin_reg.predict([\n",
    "    [0, 0, 0, 6, 9, 12, 20, 0, 0, 1, 1, 1, 2, 2, 3]\n",
    "])"
   ],
   "metadata": {
    "collapsed": false,
    "pycharm": {
     "name": "#%%\n"
    }
   }
  }
 ],
 "metadata": {
  "kernelspec": {
   "display_name": "Python 3",
   "language": "python",
   "name": "python3"
  },
  "language_info": {
   "codemirror_mode": {
    "name": "ipython",
    "version": 2
   },
   "file_extension": ".py",
   "mimetype": "text/x-python",
   "name": "python",
   "nbconvert_exporter": "python",
   "pygments_lexer": "ipython2",
   "version": "2.7.6"
  }
 },
 "nbformat": 4,
 "nbformat_minor": 0
}