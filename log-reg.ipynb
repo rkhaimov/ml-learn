{
 "cells": [
  {
   "cell_type": "markdown",
   "source": [
    "Logistic regression is a classification model. It predicts whether $\\mathbf{x}$ belongs to positive case or not. It does so by using sigmoid function in composition with linear equation:\n",
    "$$h(x) = \\frac{1}{1 + e^{\\mathbf{x}^{\\intercal}\\mathbf{\\theta}}}$$\n",
    "$$y = \\left\\{\n",
    "  \\begin{array}{ c l }\n",
    "    1 & \\quad h(x) \\geq 0.5 \\\\\n",
    "    0 & \\quad \\textrm{otherwise}\n",
    "  \\end{array}\n",
    "\\right.$$\n",
    "\n",
    "The subject of learning is to minimize:\n",
    "\n",
    "$$\\textrm{cost}(h(x), y)=\\left\\{\n",
    "  \\begin{array}{ c l }\n",
    "    -\\log(h(x)) & \\quad y = 1 \\\\\n",
    "    -\\log(1-h(x)) & \\quad y = 0\n",
    "  \\end{array}\n",
    "\\right.$$\n",
    "\n",
    "Can be rewritten as:\n",
    "\n",
    "$$\\textrm{cost}(h(x), y)=-y\\log(h(x))-(1 - y)\\log(1-h(x))$$\n",
    "\n",
    "Derivative:\n",
    "\n",
    "$$ \\frac{d}{d\\mathbf{\\theta}}J(\\mathbf{\\theta})=\\frac{1}{m}\\mathbf{X}^{\\intercal}(h(x) - \\mathbf{y}) $$"
   ],
   "metadata": {
    "collapsed": false,
    "pycharm": {
     "name": "#%% md\n"
    }
   }
  },
  {
   "cell_type": "code",
   "execution_count": 104,
   "outputs": [],
   "source": [
    "\n",
    "import numpy as np\n",
    "\n",
    "\n",
    "def cost(hx: np.array, y: np.array):\n",
    "    return np.sum(np.log(hx) * -1 * y - (1 - y) * np.log(1 - hx)) * (1 / hx.shape[0])\n",
    "\n",
    "\n",
    "def learn(X: np.ndarray, y: np.ndarray, total_epoches=10, lr=1):\n",
    "    Xb: np.ndarray = np.column_stack([np.ones([X.shape[0], 1]), X])\n",
    "\n",
    "    theta = np.ones(Xb.shape[1])\n",
    "    history = []\n",
    "    for epoch in range(0, total_epoches):\n",
    "        history.append(cost(predict(X, theta), y))\n",
    "        theta = theta - lr * Xb.transpose().dot(predict(X, theta) - y)\n",
    "\n",
    "    return theta, history\n",
    "\n",
    "\n",
    "def predict(X: np.ndarray, theta: np.ndarray):\n",
    "    Xb: np.ndarray = np.column_stack([np.ones([X.shape[0], 1]), X])\n",
    "\n",
    "    return np.reciprocal(1 + np.exp(Xb.dot(theta) * -1))\n"
   ],
   "metadata": {
    "collapsed": false,
    "pycharm": {
     "name": "#%%\n"
    }
   }
  },
  {
   "cell_type": "markdown",
   "source": [
    "Let's try fitting non-linear classification problem using linear features"
   ],
   "metadata": {
    "collapsed": false,
    "pycharm": {
     "name": "#%% md\n"
    }
   }
  },
  {
   "cell_type": "code",
   "execution_count": 105,
   "outputs": [
    {
     "data": {
      "text/plain": "0.2435186304531812"
     },
     "execution_count": 105,
     "metadata": {},
     "output_type": "execute_result"
    },
    {
     "data": {
      "text/plain": "<Figure size 432x288 with 1 Axes>",
      "image/png": "[encoded data removed]"
     },
     "metadata": {
      "needs_background": "light"
     },
     "output_type": "display_data"
    }
   ],
   "source": [
    "from sklearn import datasets\n",
    "\n",
    "np.random.seed(13)\n",
    "X, y = datasets.make_classification(100, 2, n_redundant=0)\n",
    "\n",
    "theta, history = learn(X, y, 100, 0.01)\n",
    "\n",
    "plt.plot(np.arange(0, len(history)), history)\n",
    "cost(predict(X, theta), y)"
   ],
   "metadata": {
    "collapsed": false,
    "pycharm": {
     "name": "#%%\n"
    }
   }
  },
  {
   "cell_type": "markdown",
   "source": [
    "Add extra features to make $\\mathbf{x}^{\\intercal}\\mathbf{\\theta}$ non-linear, e. g. transform to $\\theta_0 + \\theta_1{x_1} + \\theta_2{x_2} + {x_3}^2\\theta_3$ terms"
   ],
   "metadata": {
    "collapsed": false,
    "pycharm": {
     "name": "#%% md\n"
    }
   }
  },
  {
   "cell_type": "code",
   "execution_count": 107,
   "outputs": [
    {
     "data": {
      "text/plain": "[<matplotlib.lines.Line2D at 0x1f2826715b0>]"
     },
     "execution_count": 107,
     "metadata": {},
     "output_type": "execute_result"
    },
    {
     "data": {
      "text/plain": "<Figure size 432x288 with 1 Axes>",
      "image/png": "[encoded data removed]"
     },
     "metadata": {
      "needs_background": "light"
     },
     "output_type": "display_data"
    }
   ],
   "source": [
    "def extend(X: np.array):\n",
    "    return np.column_stack([X, np.square(X[:, 0])])\n",
    "\n",
    "theta, history = learn(extend(X), y, 100, 0.01)\n",
    "\n",
    "plt.plot(np.arange(0, len(history)), history)"
   ],
   "metadata": {
    "collapsed": false,
    "pycharm": {
     "name": "#%%\n"
    }
   }
  },
  {
   "cell_type": "code",
   "execution_count": 108,
   "outputs": [
    {
     "data": {
      "text/plain": "0.12625766607162675"
     },
     "execution_count": 108,
     "metadata": {},
     "output_type": "execute_result"
    }
   ],
   "source": [
    "cost(predict(extend(X), theta), y)"
   ],
   "metadata": {
    "collapsed": false,
    "pycharm": {
     "name": "#%%\n"
    }
   }
  },
  {
   "cell_type": "code",
   "execution_count": null,
   "outputs": [],
   "source": [
    "def show(X: np.linspace, y: np.linspace, theta: np.array, prepare=lambda x: x):\n",
    "    delta = 5\n",
    "    x = np.linspace(-5, 5, delta)\n",
    "    x1, x2 = np.meshgrid(x, x)\n",
    "    joined = np.column_stack([x1.reshape([-1, 1]), x2.reshape([-1, 1])])\n",
    "\n",
    "    plt.contourf(x1, x2, predict(prepare(joined), theta).reshape([-1, 5]), 10, cmap='RdGy')\n",
    "    plt.colorbar()\n",
    "\n",
    "    plt.scatter(X[:, 0], X[:, 1], c=y, cmap='GnBu_r')"
   ],
   "metadata": {
    "collapsed": false,
    "pycharm": {
     "name": "#%%\n"
    }
   }
  },
  {
   "cell_type": "code",
   "execution_count": 109,
   "outputs": [
    {
     "data": {
      "text/plain": "<Figure size 432x288 with 2 Axes>",
      "image/png": "[encoded data removed]"
     },
     "metadata": {
      "needs_background": "light"
     },
     "output_type": "display_data"
    }
   ],
   "source": [
    "show(extend(X), y, theta, extend)"
   ],
   "metadata": {
    "collapsed": false,
    "pycharm": {
     "name": "#%%\n"
    }
   }
  }
 ],
 "metadata": {
  "kernelspec": {
   "display_name": "Python 3",
   "language": "python",
   "name": "python3"
  },
  "language_info": {
   "codemirror_mode": {
    "name": "ipython",
    "version": 2
   },
   "file_extension": ".py",
   "mimetype": "text/x-python",
   "name": "python",
   "nbconvert_exporter": "python",
   "pygments_lexer": "ipython2",
   "version": "2.7.6"
  }
 },
 "nbformat": 4,
 "nbformat_minor": 0
}