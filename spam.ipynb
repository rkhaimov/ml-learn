{
 "cells": [
  {
   "cell_type": "code",
   "execution_count": 129,
   "metadata": {
    "collapsed": true,
    "pycharm": {
     "name": "#%%\n"
    }
   },
   "outputs": [
    {
     "data": {
      "text/plain": "['ham', 'spam']"
     },
     "execution_count": 129,
     "metadata": {},
     "output_type": "execute_result"
    }
   ],
   "source": [
    "import string\n",
    "\n",
    "import numpy as np\n",
    "import os\n",
    "import email\n",
    "import email.policy\n",
    "\n",
    "os.listdir('./dataset')"
   ]
  },
  {
   "cell_type": "code",
   "execution_count": 130,
   "outputs": [],
   "source": [
    "hams = os.listdir('./dataset/ham')\n",
    "spams = os.listdir('./dataset/spam')"
   ],
   "metadata": {
    "collapsed": false,
    "pycharm": {
     "name": "#%%\n"
    }
   }
  },
  {
   "cell_type": "code",
   "execution_count": 131,
   "outputs": [],
   "source": [
    "def l_email(email_name):\n",
    "    with open(email_name, 'rb') as f:\n",
    "        return email.parser.BytesParser(policy=email.policy.default).parse(f)\n",
    "\n",
    "\n",
    "def l_spam(filename):\n",
    "    return l_email(os.path.join('./dataset/spam', filename))\n",
    "\n",
    "\n",
    "def l_ham(filename):\n",
    "    return l_email(os.path.join('./dataset/ham', filename))"
   ],
   "metadata": {
    "collapsed": false,
    "pycharm": {
     "name": "#%%\n"
    }
   }
  },
  {
   "cell_type": "code",
   "execution_count": 132,
   "outputs": [],
   "source": [
    "# Subject - Probably can be used by itself\n",
    "# From - May contain usefully information\n",
    "# Content-Type - Ham emails less likely to have html type"
   ],
   "metadata": {
    "collapsed": false,
    "pycharm": {
     "name": "#%%\n"
    }
   }
  },
  {
   "cell_type": "code",
   "execution_count": 133,
   "outputs": [],
   "source": [
    "import pandas as pd\n",
    "\n",
    "spams = list(map(lambda x: l_spam(x), spams))\n",
    "hams = list(map(lambda x: l_ham(x), hams))"
   ],
   "metadata": {
    "collapsed": false,
    "pycharm": {
     "name": "#%%\n"
    }
   }
  },
  {
   "cell_type": "code",
   "execution_count": 173,
   "outputs": [],
   "source": [
    "def as_valid(emails):\n",
    "    valid = []\n",
    "\n",
    "    for index, email in enumerate(emails):\n",
    "        try:\n",
    "            email.get_body().get_content()\n",
    "\n",
    "            valid.append(email)\n",
    "        except LookupError:\n",
    "            continue\n",
    "        except AttributeError:\n",
    "            continue\n",
    "\n",
    "    return valid\n",
    "\n",
    "\n",
    "def parse_subjects(emails):\n",
    "    return [email.get('Subject') for email in emails]\n",
    "\n",
    "\n",
    "def parse_types(emails):\n",
    "    def get_type(email):\n",
    "        if email.get('Content-Type') is None:\n",
    "            return None\n",
    "\n",
    "        return email.get('Content-Type').split(';')[0].lower()\n",
    "\n",
    "    return [get_type(email) for email in emails]\n",
    "\n",
    "\n",
    "def parse_content(emails):\n",
    "    return [email.get_body().get_content() for email in emails]\n",
    "\n",
    "\n",
    "def to_df(emails):\n",
    "    valid = as_valid(emails)\n",
    "\n",
    "    return pd.DataFrame(\n",
    "        {'subject': subjects_to_series(valid), 'type': parse_types(valid), 'content': parse_content(valid)})"
   ],
   "metadata": {
    "collapsed": false,
    "pycharm": {
     "name": "#%%\n"
    }
   }
  },
  {
   "cell_type": "code",
   "execution_count": 176,
   "outputs": [],
   "source": [
    "spams_df = to_df(spams)\n",
    "hams_df = to_df(hams)"
   ],
   "metadata": {
    "collapsed": false,
    "pycharm": {
     "name": "#%%\n"
    }
   }
  },
  {
   "cell_type": "code",
   "execution_count": 175,
   "outputs": [
    {
     "data": {
      "text/plain": "<AxesSubplot:>"
     },
     "execution_count": 175,
     "metadata": {},
     "output_type": "execute_result"
    },
    {
     "data": {
      "text/plain": "<Figure size 432x288 with 1 Axes>",
      "image/png": "[encoded data removed]"
     },
     "metadata": {
      "needs_background": "light"
     },
     "output_type": "display_data"
    }
   ],
   "source": [
    "spams_df['type'].value_counts(normalize=True).plot(kind='bar')"
   ],
   "metadata": {
    "collapsed": false,
    "pycharm": {
     "name": "#%%\n"
    }
   }
  },
  {
   "cell_type": "code",
   "execution_count": 181,
   "outputs": [
    {
     "data": {
      "text/plain": "<AxesSubplot:>"
     },
     "execution_count": 181,
     "metadata": {},
     "output_type": "execute_result"
    },
    {
     "data": {
      "text/plain": "<Figure size 432x288 with 1 Axes>",
      "image/png": "[encoded data removed]"
     },
     "metadata": {
      "needs_background": "light"
     },
     "output_type": "display_data"
    }
   ],
   "source": [
    "# html type is a good metric to find out spam emails\n",
    "hams_df['type'].value_counts(normalize=True).plot(kind='bar')"
   ],
   "metadata": {
    "collapsed": false,
    "pycharm": {
     "name": "#%%\n"
    }
   }
  },
  {
   "cell_type": "code",
   "execution_count": 199,
   "outputs": [
    {
     "name": "stderr",
     "output_type": "stream",
     "text": [
      "[nltk_data] Downloading package punkt to\n",
      "[nltk_data]     C:\\Users\\Khaimov\\AppData\\Roaming\\nltk_data...\n",
      "[nltk_data]   Unzipping tokenizers\\punkt.zip.\n"
     ]
    },
    {
     "data": {
      "text/plain": "True"
     },
     "execution_count": 199,
     "metadata": {},
     "output_type": "execute_result"
    }
   ],
   "source": [
    "import nltk\n",
    "\n",
    "nltk.download('punkt')"
   ],
   "metadata": {
    "collapsed": false,
    "pycharm": {
     "name": "#%%\n"
    }
   }
  },
  {
   "cell_type": "code",
   "execution_count": 238,
   "outputs": [],
   "source": [
    "import string\n",
    "import re\n",
    "\n",
    "ps = nltk.stem.PorterStemmer()\n",
    "\n",
    "\n",
    "def subject_to_words(subject):\n",
    "    no_punctuation = subject.translate(str.maketrans('', '', string.punctuation))\n",
    "    no_digits = re.sub(r'\\d+', 'digit', no_punctuation)\n",
    "\n",
    "    words = nltk.word_tokenize(no_digits)\n",
    "\n",
    "    return [ps.stem(word) for word in words]\n",
    "\n",
    "\n",
    "def subjects_to_series(emails):\n",
    "    subjects = emails['subject'][emails['subject'].notnull()]\n",
    "    words = sum([subject_to_words(subject) for subject in subjects], [])\n",
    "\n",
    "    return pd.Series(words)\n",
    "\n"
   ],
   "metadata": {
    "collapsed": false,
    "pycharm": {
     "name": "#%%\n"
    }
   }
  },
  {
   "cell_type": "code",
   "execution_count": 239,
   "outputs": [
    {
     "data": {
      "text/plain": "digit      0.056790\nyour       0.026102\nfor        0.018342\nthe        0.017989\nyou        0.016578\n             ...   \nltc        0.000353\ndeclin     0.000353\ncyberag    0.000353\njenni      0.000353\nfaeri      0.000353\nLength: 944, dtype: float64"
     },
     "execution_count": 239,
     "metadata": {},
     "output_type": "execute_result"
    }
   ],
   "source": [
    "subjects_to_series(spams_df).value_counts(normalize=True)"
   ],
   "metadata": {
    "collapsed": false,
    "pycharm": {
     "name": "#%%\n"
    }
   }
  },
  {
   "cell_type": "code",
   "execution_count": 240,
   "outputs": [
    {
     "data": {
      "text/plain": "re                                                    0.091961\nthe                                                   0.025609\ndigit                                                 0.021775\nfor                                                   0.020337\nto                                                    0.014311\n                                                        ...   \ndaypop                                                0.000068\nbadg                                                  0.000068\ntrek                                                  0.000068\nhttpradioweblogscomdigitimagesdigituncsammediumgif    0.000068\ngain                                                  0.000068\nLength: 2921, dtype: float64"
     },
     "execution_count": 240,
     "metadata": {},
     "output_type": "execute_result"
    }
   ],
   "source": [
    "subjects_to_series(hams_df).value_counts(normalize=True)"
   ],
   "metadata": {
    "collapsed": false,
    "pycharm": {
     "name": "#%%\n"
    }
   }
  }
 ],
 "metadata": {
  "kernelspec": {
   "display_name": "Python 3",
   "language": "python",
   "name": "python3"
  },
  "language_info": {
   "codemirror_mode": {
    "name": "ipython",
    "version": 2
   },
   "file_extension": ".py",
   "mimetype": "text/x-python",
   "name": "python",
   "nbconvert_exporter": "python",
   "pygments_lexer": "ipython2",
   "version": "2.7.6"
  }
 },
 "nbformat": 4,
 "nbformat_minor": 0
}