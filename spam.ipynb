{
 "cells": [
  {
   "cell_type": "code",
   "execution_count": 2,
   "metadata": {
    "collapsed": true,
    "pycharm": {
     "name": "#%%\n"
    }
   },
   "outputs": [
    {
     "data": {
      "text/plain": "['ham', 'spam']"
     },
     "execution_count": 2,
     "metadata": {},
     "output_type": "execute_result"
    }
   ],
   "source": [
    "\n",
    "\n",
    "import email\n",
    "import email.policy\n",
    "import os\n",
    "\n",
    "import numpy as np\n",
    "\n",
    "os.listdir('./dataset')"
   ]
  },
  {
   "cell_type": "code",
   "execution_count": 3,
   "outputs": [],
   "source": [
    "hams = os.listdir('./dataset/ham')\n",
    "spams = os.listdir('./dataset/spam')"
   ],
   "metadata": {
    "collapsed": false,
    "pycharm": {
     "name": "#%%\n"
    }
   }
  },
  {
   "cell_type": "code",
   "execution_count": 4,
   "outputs": [],
   "source": [
    "def l_email(email_name):\n",
    "    with open(email_name, 'rb') as f:\n",
    "        return email.parser.BytesParser(policy=email.policy.default).parse(f)\n",
    "\n",
    "\n",
    "def l_spam(filename):\n",
    "    return l_email(os.path.join('./dataset/spam', filename))\n",
    "\n",
    "\n",
    "def l_ham(filename):\n",
    "    return l_email(os.path.join('./dataset/ham', filename))"
   ],
   "metadata": {
    "collapsed": false,
    "pycharm": {
     "name": "#%%\n"
    }
   }
  },
  {
   "cell_type": "code",
   "execution_count": 5,
   "outputs": [],
   "source": [
    "# Subject - Probably can be used by itself\n",
    "# From - May contain usefully information\n",
    "# Content-Type - Ham emails less likely to have html type"
   ],
   "metadata": {
    "collapsed": false,
    "pycharm": {
     "name": "#%%\n"
    }
   }
  },
  {
   "cell_type": "code",
   "execution_count": 6,
   "outputs": [],
   "source": [
    "import pandas as pd\n",
    "\n",
    "spams = list(map(lambda x: l_spam(x), spams))\n",
    "hams = list(map(lambda x: l_ham(x), hams))"
   ],
   "metadata": {
    "collapsed": false,
    "pycharm": {
     "name": "#%%\n"
    }
   }
  },
  {
   "cell_type": "code",
   "execution_count": 7,
   "outputs": [],
   "source": [
    "def as_valid(emails):\n",
    "    valid = []\n",
    "\n",
    "    for index, email in enumerate(emails):\n",
    "        try:\n",
    "            email.get_body().get_content()\n",
    "\n",
    "            valid.append(email)\n",
    "        except LookupError:\n",
    "            continue\n",
    "        except AttributeError:\n",
    "            continue\n",
    "\n",
    "    return valid\n",
    "\n",
    "\n",
    "def parse_subjects(emails):\n",
    "    return [email.get('Subject') for email in emails]\n",
    "\n",
    "\n",
    "def parse_types(emails):\n",
    "    def get_type(email):\n",
    "        if email.get('Content-Type') is None:\n",
    "            return None\n",
    "\n",
    "        return email.get('Content-Type').split(';')[0].lower()\n",
    "\n",
    "    return [get_type(email) for email in emails]\n",
    "\n",
    "\n",
    "def parse_content(emails):\n",
    "    return [email.get_body().get_content() for email in emails]\n",
    "\n",
    "\n",
    "def to_df(emails):\n",
    "    valid = as_valid(emails)\n",
    "\n",
    "    return pd.DataFrame(\n",
    "        {'subject': parse_subjects(valid), 'type': parse_types(valid), 'content': parse_content(valid)})"
   ],
   "metadata": {
    "collapsed": false,
    "pycharm": {
     "name": "#%%\n"
    }
   }
  },
  {
   "cell_type": "code",
   "execution_count": 8,
   "outputs": [],
   "source": [
    "spams_df = to_df(spams)\n",
    "hams_df = to_df(hams)"
   ],
   "metadata": {
    "collapsed": false,
    "pycharm": {
     "name": "#%%\n"
    }
   }
  },
  {
   "cell_type": "code",
   "execution_count": 9,
   "outputs": [
    {
     "data": {
      "text/plain": "<AxesSubplot:>"
     },
     "execution_count": 9,
     "metadata": {},
     "output_type": "execute_result"
    },
    {
     "data": {
      "text/plain": "<Figure size 432x288 with 1 Axes>",
      "image/png": "[encoded data removed]"
     },
     "metadata": {
      "needs_background": "light"
     },
     "output_type": "display_data"
    }
   ],
   "source": [
    "spams_df['type'].value_counts(normalize=True).plot(kind='bar')"
   ],
   "metadata": {
    "collapsed": false,
    "pycharm": {
     "name": "#%%\n"
    }
   }
  },
  {
   "cell_type": "code",
   "execution_count": 10,
   "outputs": [
    {
     "data": {
      "text/plain": "<AxesSubplot:>"
     },
     "execution_count": 10,
     "metadata": {},
     "output_type": "execute_result"
    },
    {
     "data": {
      "text/plain": "<Figure size 432x288 with 1 Axes>",
      "image/png": "[encoded data removed]"
     },
     "metadata": {
      "needs_background": "light"
     },
     "output_type": "display_data"
    }
   ],
   "source": [
    "# html type is a good metric to find out spam emails\n",
    "hams_df['type'].value_counts(normalize=True).plot(kind='bar')"
   ],
   "metadata": {
    "collapsed": false,
    "pycharm": {
     "name": "#%%\n"
    }
   }
  },
  {
   "cell_type": "code",
   "execution_count": 11,
   "outputs": [
    {
     "name": "stderr",
     "output_type": "stream",
     "text": [
      "[nltk_data] Downloading package punkt to\n",
      "[nltk_data]     C:\\Users\\Khaimov\\AppData\\Roaming\\nltk_data...\n",
      "[nltk_data]   Package punkt is already up-to-date!\n",
      "[nltk_data] Downloading package averaged_perceptron_tagger to\n",
      "[nltk_data]     C:\\Users\\Khaimov\\AppData\\Roaming\\nltk_data...\n",
      "[nltk_data]   Package averaged_perceptron_tagger is already up-to-\n",
      "[nltk_data]       date!\n"
     ]
    },
    {
     "data": {
      "text/plain": "True"
     },
     "execution_count": 11,
     "metadata": {},
     "output_type": "execute_result"
    }
   ],
   "source": [
    "import nltk\n",
    "\n",
    "nltk.download('punkt')\n",
    "nltk.download('averaged_perceptron_tagger')"
   ],
   "metadata": {
    "collapsed": false,
    "pycharm": {
     "name": "#%%\n"
    }
   }
  },
  {
   "cell_type": "code",
   "execution_count": 44,
   "outputs": [],
   "source": [
    "import string\n",
    "import re\n",
    "from bs4 import BeautifulSoup\n",
    "\n",
    "ps = nltk.stem.PorterStemmer()\n",
    "\n",
    "\n",
    "def sentence_to_words(subject):\n",
    "    no_links = re.sub(r'https?://\\S+', 'link', subject)\n",
    "    no_punctuation = no_links.translate(str.maketrans('', '', string.punctuation))\n",
    "    no_digits = re.sub(r'\\d+', 'digit', no_punctuation)\n",
    "\n",
    "    words = nltk.word_tokenize(no_digits)\n",
    "    stemmed = [ps.stem(word) for word in words]\n",
    "\n",
    "    return list(map(lambda x: x[0], filter(lambda x: x[1] == 'NN' or x[1] == 'VB', nltk.pos_tag(stemmed))))\n",
    "\n",
    "\n",
    "def email_to_words(email):\n",
    "    return set(sentence_to_words(email['subject']) + sentence_to_words(BeautifulSoup(email['content']).get_text()))\n",
    "\n",
    "\n",
    "def emails_to_words(emails):\n",
    "    words = emails[emails['type'].notna()]\n",
    "\n",
    "    return pd.Series(words.apply(lambda x: list(email_to_words(x)), axis=1).sum())\n",
    "\n"
   ],
   "metadata": {
    "collapsed": false,
    "pycharm": {
     "name": "#%%\n"
    }
   }
  },
  {
   "cell_type": "code",
   "execution_count": 20,
   "outputs": [
    {
     "name": "stderr",
     "output_type": "stream",
     "text": [
      "c:\\users\\khaimov\\pycharmprojects\\ml-learn\\venv\\lib\\site-packages\\bs4\\__init__.py:435: MarkupResemblesLocatorWarning: The input looks more like a filename than markup. You may want to open this file and pass the filehandle into Beautiful Soup.\n",
      "  warnings.warn(\n"
     ]
    },
    {
     "data": {
      "text/plain": "digit                             0.010022\nbe                                0.009407\nthi                               0.008116\nemail                             0.007839\nlist                              0.006702\n                                    ...   \nbooksblackrealitypublishingcom    0.000031\nburden                            0.000031\ncommentari                        0.000031\npoverti                           0.000031\nefficaci                          0.000031\nLength: 5814, dtype: float64"
     },
     "execution_count": 20,
     "metadata": {},
     "output_type": "execute_result"
    }
   ],
   "source": [
    "emails_to_words(spams_df).value_counts(normalize=1)"
   ],
   "metadata": {
    "collapsed": false,
    "pycharm": {
     "name": "#%%\n"
    }
   }
  },
  {
   "cell_type": "code",
   "execution_count": 21,
   "outputs": [
    {
     "name": "stderr",
     "output_type": "stream",
     "text": [
      "c:\\users\\khaimov\\pycharmprojects\\ml-learn\\venv\\lib\\site-packages\\bs4\\__init__.py:435: MarkupResemblesLocatorWarning: The input looks more like a filename than markup. You may want to open this file and pass the filehandle into Beautiful Soup.\n",
      "  warnings.warn(\n",
      "c:\\users\\khaimov\\pycharmprojects\\ml-learn\\venv\\lib\\site-packages\\bs4\\__init__.py:404: MarkupResemblesLocatorWarning: The input looks more like a URL than markup. You may want to use an HTTP client like requests to get the document behind the URL, and feed that document to Beautiful Soup.\n",
      "  warnings.warn(\n"
     ]
    },
    {
     "data": {
      "text/plain": "link           0.014289\ndigit          0.011958\nre             0.009403\ni              0.009301\nbe             0.008615\n                 ...   \ntouchton       0.000009\nkeypad         0.000009\ninputmethod    0.000009\nbrotherton     0.000009\ngoahead        0.000009\nLength: 14670, dtype: float64"
     },
     "execution_count": 21,
     "metadata": {},
     "output_type": "execute_result"
    }
   ],
   "source": [
    "emails_to_words(hams_df).value_counts(normalize=1)"
   ],
   "metadata": {
    "collapsed": false,
    "pycharm": {
     "name": "#%%\n"
    }
   }
  },
  {
   "cell_type": "code",
   "execution_count": 138,
   "outputs": [],
   "source": [
    "keywords = [\n",
    "    'click',\n",
    "    'email',\n",
    "    'inform',\n",
    "    'receiv',\n",
    "    'money',\n",
    "    'market',\n",
    "    'contact',\n",
    "    'list',\n",
    "    'link',\n",
    "    'offer',\n",
    "    'price',\n",
    "    'order',\n",
    "    'servic',\n",
    "    'pay',\n",
    "    'rate',\n",
    "    'guarante',\n",
    "    'dollar',\n",
    "    'opportun',\n",
    "    'free'\n",
    "]"
   ],
   "metadata": {
    "collapsed": false,
    "pycharm": {
     "name": "#%%\n"
    }
   }
  },
  {
   "cell_type": "code",
   "execution_count": 248,
   "outputs": [
    {
     "name": "stderr",
     "output_type": "stream",
     "text": [
      "c:\\users\\khaimov\\pycharmprojects\\ml-learn\\venv\\lib\\site-packages\\bs4\\__init__.py:435: MarkupResemblesLocatorWarning: The input looks more like a filename than markup. You may want to open this file and pass the filehandle into Beautiful Soup.\n",
      "  warnings.warn(\n",
      "c:\\users\\khaimov\\pycharmprojects\\ml-learn\\venv\\lib\\site-packages\\bs4\\__init__.py:404: MarkupResemblesLocatorWarning: The input looks more like a URL than markup. You may want to use an HTTP client like requests to get the document behind the URL, and feed that document to Beautiful Soup.\n",
      "  warnings.warn(\n"
     ]
    }
   ],
   "source": [
    "def email_words_to_features(email):\n",
    "    words = email_to_words(email)\n",
    "\n",
    "    return pd.Series(map(lambda keyword: int(keyword in words), keywords), index=keywords)\n",
    "\n",
    "\n",
    "def email_type_to_feature(email):\n",
    "    return pd.Series([int(email['type'] == 'text/html')], index=['is_html'])\n",
    "\n",
    "\n",
    "def email_to_instance(email):\n",
    "    return pd.concat([\n",
    "        email_type_to_feature(email),\n",
    "        email_words_to_features(email),\n",
    "        pd.Series([email['spam']], index=['spam'])\n",
    "    ])\n",
    "\n",
    "\n",
    "spams_df['spam'] = 1\n",
    "hams_df['spam'] = 0\n",
    "emails = spams_df.append(hams_df)\n",
    "\n",
    "X = emails.fillna({'subject': '', 'type': 'text/plain'}).apply(email_to_instance, axis=1)"
   ],
   "metadata": {
    "collapsed": false,
    "pycharm": {
     "name": "#%%\n"
    }
   }
  },
  {
   "cell_type": "code",
   "execution_count": 275,
   "outputs": [],
   "source": [
    "import sklearn.model_selection as ms\n",
    "\n",
    "X_train, X_test, y_train, y_test = ms.train_test_split(X[X.columns[0:-1]].to_numpy(), X[X.columns[-1:]].to_numpy(),\n",
    "                                                       random_state=42,\n",
    "                                                       test_size=0.2)"
   ],
   "metadata": {
    "collapsed": false,
    "pycharm": {
     "name": "#%%\n"
    }
   }
  },
  {
   "cell_type": "code",
   "execution_count": 287,
   "outputs": [
    {
     "name": "stderr",
     "output_type": "stream",
     "text": [
      "c:\\users\\khaimov\\pycharmprojects\\ml-learn\\venv\\lib\\site-packages\\sklearn\\utils\\validation.py:63: DataConversionWarning: A column-vector y was passed when a 1d array was expected. Please change the shape of y to (n_samples, ), for example using ravel().\n",
      "  return f(*args, **kwargs)\n"
     ]
    },
    {
     "data": {
      "text/plain": "0.9506578947368421"
     },
     "execution_count": 287,
     "metadata": {},
     "output_type": "execute_result"
    },
    {
     "data": {
      "text/plain": "<Figure size 432x288 with 1 Axes>",
      "image/png": "[encoded data removed]"
     },
     "metadata": {
      "needs_background": "light"
     },
     "output_type": "display_data"
    }
   ],
   "source": [
    "import sklearn.linear_model as lm\n",
    "import sklearn.preprocessing as pp\n",
    "import matplotlib.pyplot as plt\n",
    "from sklearn.pipeline import Pipeline\n",
    "\n",
    "clf = Pipeline([\n",
    "    ('poly', pp.PolynomialFeatures(degree=4)),\n",
    "    ('clf', lm.LogisticRegression(C=1)),\n",
    "])\n",
    "\n",
    "train_sizes_abs, train_scores, test_scores = ms.learning_curve(clf, X_train, y_train.ravel())\n",
    "\n",
    "plt.plot(train_sizes_abs, 1 - np.mean(train_scores, axis=1))\n",
    "plt.plot(train_sizes_abs, 1 - np.mean(test_scores, axis=1))\n",
    "\n",
    "clf.fit(X_train, y_train)\n",
    "\n",
    "clf.score(X_test, y_test)"
   ],
   "metadata": {
    "collapsed": false,
    "pycharm": {
     "name": "#%%\n"
    }
   }
  },
  {
   "cell_type": "code",
   "execution_count": 301,
   "outputs": [],
   "source": [
    "y_pred = clf.predict(X[X.columns[0:-1]])"
   ],
   "metadata": {
    "collapsed": false,
    "pycharm": {
     "name": "#%%\n"
    }
   }
  },
  {
   "cell_type": "code",
   "execution_count": 359,
   "outputs": [],
   "source": [
    "# CAPITALIZE?\n",
    "# money and percentages\n",
    "# non english words\n",
    "# consider sender email\n",
    "# emails have inner mult payload\n",
    "# write email pipeline transformer\n",
    "# use word vectors"
   ],
   "metadata": {
    "collapsed": false,
    "pycharm": {
     "name": "#%%\n"
    }
   }
  }
 ],
 "metadata": {
  "kernelspec": {
   "display_name": "Python 3",
   "language": "python",
   "name": "python3"
  },
  "language_info": {
   "codemirror_mode": {
    "name": "ipython",
    "version": 2
   },
   "file_extension": ".py",
   "mimetype": "text/x-python",
   "name": "python",
   "nbconvert_exporter": "python",
   "pygments_lexer": "ipython2",
   "version": "2.7.6"
  }
 },
 "nbformat": 4,
 "nbformat_minor": 0
}