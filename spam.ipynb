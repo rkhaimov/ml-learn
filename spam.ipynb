{
 "cells": [
  {
   "cell_type": "code",
   "execution_count": 1,
   "metadata": {
    "collapsed": true,
    "pycharm": {
     "name": "#%%\n"
    }
   },
   "outputs": [
    {
     "data": {
      "text/plain": "['ham', 'spam']"
     },
     "execution_count": 1,
     "metadata": {},
     "output_type": "execute_result"
    }
   ],
   "source": [
    "import email\n",
    "import email.policy\n",
    "import os\n",
    "import types\n",
    "\n",
    "import numpy as np\n",
    "\n",
    "os.listdir('./dataset')"
   ]
  },
  {
   "cell_type": "markdown",
   "source": [
    "* Collect lots of data\n",
    "* Develop improved email features\n",
    "    * Based on routing (spam emails may have unusual paths)\n",
    "    * Check for capitalized, non english and misspelled words\n",
    "    * Look for money and percentages\n",
    "    * consider email sender\n",
    "    * merge multipart emails\n",
    "* Use different models\n",
    "    * Word vectors\n",
    "    * Bug of words (most occurring n words in spam)"
   ],
   "metadata": {
    "collapsed": false,
    "pycharm": {
     "name": "#%% md\n"
    }
   }
  },
  {
   "cell_type": "markdown",
   "source": [
    "* Start with a very simple algorith that is easy to implement and validate it on CV\n",
    "* high bias - hypnosis is too simple. Error on training and CV is high\n",
    "* high variance - hypnosis is too complex. Error on training is low but on CV is high\n",
    "* Plot learning curves (high bias or variance) and decide what to do next\n",
    "    * Add more data (high variance)\n",
    "    * Add fewer features (high variance)\n",
    "    * Add more features (high bias)\n",
    "    * Decrease alpha (high bias)\n",
    "    * Increase alpha (high variance)\n",
    "* Error analysis: Manually examine errors (for example spam email that was set to ham) and figure out what is wrong (extract general patterns)\n",
    "* Check hyperparams with error percentage. For example with stem is 5% and without - 3%"
   ],
   "metadata": {
    "collapsed": false,
    "pycharm": {
     "name": "#%% md\n"
    }
   }
  },
  {
   "cell_type": "code",
   "execution_count": 2,
   "outputs": [],
   "source": [
    "hams = os.listdir('./dataset/ham')\n",
    "spams = os.listdir('./dataset/spam')"
   ],
   "metadata": {
    "collapsed": false,
    "pycharm": {
     "name": "#%%\n"
    }
   }
  },
  {
   "cell_type": "code",
   "execution_count": 3,
   "outputs": [],
   "source": [
    "def l_email(email_name):\n",
    "    with open(email_name, 'rb') as f:\n",
    "        return email.parser.BytesParser(policy=email.policy.default).parse(f)\n",
    "\n",
    "\n",
    "def l_spam(filename):\n",
    "    return l_email(os.path.join('./dataset/spam', filename))\n",
    "\n",
    "\n",
    "def l_ham(filename):\n",
    "    return l_email(os.path.join('./dataset/ham', filename))"
   ],
   "metadata": {
    "collapsed": false,
    "pycharm": {
     "name": "#%%\n"
    }
   }
  },
  {
   "cell_type": "code",
   "execution_count": 4,
   "outputs": [],
   "source": [
    "import pandas as pd\n",
    "\n",
    "spams = list(map(l_spam, spams))\n",
    "hams = list(map(l_ham, hams))"
   ],
   "metadata": {
    "collapsed": false,
    "pycharm": {
     "name": "#%%\n"
    }
   }
  },
  {
   "cell_type": "code",
   "execution_count": 94,
   "outputs": [
    {
     "name": "stderr",
     "output_type": "stream",
     "text": [
      "[nltk_data] Downloading package punkt to\n",
      "[nltk_data]     C:\\Users\\Khaimov\\AppData\\Roaming\\nltk_data...\n",
      "[nltk_data]   Package punkt is already up-to-date!\n"
     ]
    },
    {
     "data": {
      "text/plain": "True"
     },
     "execution_count": 94,
     "metadata": {},
     "output_type": "execute_result"
    }
   ],
   "source": [
    "import nltk\n",
    "\n",
    "nltk.download('punkt')"
   ],
   "metadata": {
    "collapsed": false,
    "pycharm": {
     "name": "#%%\n"
    }
   }
  },
  {
   "cell_type": "code",
   "execution_count": 179,
   "outputs": [],
   "source": [
    "import functools as fn\n",
    "\n",
    "\n",
    "def extract_words(email):\n",
    "    subject: str = email.get('Subject')\n",
    "\n",
    "    if subject is None:\n",
    "        return pd.Series([], dtype=int).value_counts()\n",
    "\n",
    "    return pd.Series(nltk.word_tokenize(subject.lower()))\n",
    "\n",
    "\n",
    "def merge_words(left: pd.Series, right: pd.Series) -> pd.Series:\n",
    "    return left.append(right)\n",
    "\n",
    "\n",
    "def top_n_words(emails, n):\n",
    "    counts: pd.Series = fn.reduce(merge_words, map(extract_words, emails)).value_counts()\n",
    "\n",
    "    return counts.head(n).index.array"
   ],
   "metadata": {
    "collapsed": false,
    "pycharm": {
     "name": "#%%\n"
    }
   }
  },
  {
   "cell_type": "code",
   "execution_count": 180,
   "outputs": [],
   "source": [
    "from sklearn.base import TransformerMixin, BaseEstimator\n",
    "\n",
    "\n",
    "class EmailToBoW(BaseEstimator, TransformerMixin):\n",
    "    def __init__(self, vocabulary):\n",
    "        self.vocabulary = vocabulary\n",
    "\n",
    "    def fit(self, X, y=None):\n",
    "        return self\n",
    "\n",
    "    def transform(self, emails, y=None):\n",
    "        return pd.DataFrame([self.to_bow(email) for email in emails]).to_numpy()\n",
    "\n",
    "    def to_bow(self, email):\n",
    "        words = set(extract_words(email))\n",
    "\n",
    "        return pd.Series([int(word in words) for word in self.vocabulary], index=self.vocabulary)"
   ],
   "metadata": {
    "collapsed": false,
    "pycharm": {
     "name": "#%%\n"
    }
   }
  },
  {
   "cell_type": "code",
   "execution_count": 193,
   "outputs": [],
   "source": [
    "from sklearn.pipeline import Pipeline\n",
    "from sklearn.linear_model import LogisticRegression\n",
    "from sklearn.model_selection import train_test_split, learning_curve\n",
    "\n",
    "top_100_words = top_n_words(spams, 100)\n",
    "\n",
    "clf = Pipeline([('bow', EmailToBoW(top_100_words)), ('clf', LogisticRegression())])\n",
    "\n",
    "X = spams + hams\n",
    "y = [1] * len(spams) + [0] * len(hams)\n",
    "\n",
    "X_train, X_test, y_train, y_test = train_test_split(X, y, test_size=0.2, random_state=42)"
   ],
   "metadata": {
    "collapsed": false,
    "pycharm": {
     "name": "#%%\n"
    }
   }
  },
  {
   "cell_type": "code",
   "execution_count": 195,
   "outputs": [],
   "source": [
    "train_sizes_abs, train_scores, test_scores = learning_curve(clf, X_train, y_train)"
   ],
   "metadata": {
    "collapsed": false,
    "pycharm": {
     "name": "#%%\n"
    }
   }
  },
  {
   "cell_type": "code",
   "execution_count": 203,
   "outputs": [
    {
     "data": {
      "text/plain": "<matplotlib.legend.Legend at 0x29d66c96640>"
     },
     "execution_count": 203,
     "metadata": {},
     "output_type": "execute_result"
    },
    {
     "data": {
      "text/plain": "<Figure size 432x288 with 1 Axes>",
      "image/png": "[encoded data removed]"
     },
     "metadata": {
      "needs_background": "light"
     },
     "output_type": "display_data"
    }
   ],
   "source": [
    "import matplotlib.pyplot as plt\n",
    "\n",
    "plt.plot(train_sizes_abs, 1 - np.mean(train_scores, axis=1), label='Training')\n",
    "plt.plot(train_sizes_abs, 1 - np.mean(test_scores, axis=1), label='CV')\n",
    "\n",
    "plt.legend()"
   ],
   "metadata": {
    "collapsed": false,
    "pycharm": {
     "name": "#%%\n"
    }
   }
  }
 ],
 "metadata": {
  "kernelspec": {
   "display_name": "Python 3",
   "language": "python",
   "name": "python3"
  },
  "language_info": {
   "codemirror_mode": {
    "name": "ipython",
    "version": 2
   },
   "file_extension": ".py",
   "mimetype": "text/x-python",
   "name": "python",
   "nbconvert_exporter": "python",
   "pygments_lexer": "ipython2",
   "version": "2.7.6"
  }
 },
 "nbformat": 4,
 "nbformat_minor": 0
}