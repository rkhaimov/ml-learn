{
 "cells": [
  {
   "cell_type": "code",
   "execution_count": 131,
   "metadata": {
    "collapsed": true
   },
   "outputs": [],
   "source": [
    "import numpy as np\n",
    "import matplotlib.pyplot as plt\n",
    "\n",
    "np.random.seed(42);\n"
   ]
  },
  {
   "cell_type": "code",
   "execution_count": 132,
   "outputs": [],
   "source": [
    "X = np.linspace(0, 5, 5)\n",
    "y_true = (X * 2 + 2) + np.random.random(X.shape) * 5"
   ],
   "metadata": {
    "collapsed": false,
    "pycharm": {
     "name": "#%%\n"
    }
   }
  },
  {
   "cell_type": "code",
   "execution_count": 216,
   "outputs": [],
   "source": [
    "def square_distance_lose_fn(y_true, bias, slope):\n",
    "    # (y_true_0 - (bias + X_0 * slope))^2 + ... + (y_true_n - (bias + X_n * slope))^2\n",
    "    return np.sum(np.square(y_true - (bias + slope * X)))\n",
    "\n",
    "def d_sd_for_bias(y_true, bias, slope):\n",
    "    # d / d * bias =\n",
    "    # = -2 * (y_true_0 - (bias + X_0 * slope)) + ... + -2 * (y_true_n - (bias + X_n * slope)) =\n",
    "    # = -2 * (y_true_0 - (bias + X_0 * slope) + ... + y_true_n - (bias + X_n * slope))\n",
    "    return -2 * np.sum(y_true - (bias + slope * X))\n",
    "\n",
    "def d_sd_for_slope(y_true, bias, slope):\n",
    "    # d / d * slope =\n",
    "    # = -2 * X_0 * (y_true_0 - (bias + X_0 * slope)) + ... + -2 * X_n * (y_true_n - (bias + X_n * slope))\n",
    "    # = -2 * (X_0 * (y_true_0 - (bias + X_0 * slope)) + ... + X_n * (y_true_n - (bias + X_n * slope)))\n",
    "    return -2 * np.sum((y_true - (bias + slope * X)) * X)"
   ],
   "metadata": {
    "collapsed": false,
    "pycharm": {
     "name": "#%%\n"
    }
   }
  },
  {
   "cell_type": "code",
   "execution_count": 276,
   "outputs": [],
   "source": [
    "bias = np.random.randint(10)\n",
    "slope = np.random.randint(10)"
   ],
   "metadata": {
    "collapsed": false,
    "pycharm": {
     "name": "#%%\n"
    }
   }
  },
  {
   "cell_type": "code",
   "execution_count": 303,
   "outputs": [
    {
     "name": "stdout",
     "output_type": "stream",
     "text": [
      "Price is to small 0.0009483984398386269\n",
      "Epoch 55\n"
     ]
    }
   ],
   "source": [
    "epochs = 100\n",
    "\n",
    "next_bias = bias\n",
    "next_slope = slope\n",
    "prev_error = 0\n",
    "for epoch in range(epochs):\n",
    "    # Get line slope for bias\n",
    "    line_slope_bias = d_sd_for_bias(y_true, next_bias, next_slope)\n",
    "\n",
    "    # Get line slope for slope\n",
    "    line_slope_slope = d_sd_for_slope(y_true, next_bias, next_slope)\n",
    "\n",
    "    # Get step size for both\n",
    "    learning_rate = 0.01\n",
    "    step_size_bias = learning_rate * line_slope_bias\n",
    "    step_size_slope = learning_rate * line_slope_slope\n",
    "\n",
    "    # Got to descending direction\n",
    "    next_bias = next_bias - step_size_bias\n",
    "    next_slope = next_slope - step_size_slope\n",
    "\n",
    "    error = square_distance_lose_fn(y_true, next_bias, next_slope)\n",
    "\n",
    "    if (np.abs(prev_error - error)) < 0.001:\n",
    "        print('Price is to small', prev_error - error)\n",
    "        print('Epoch', epoch)\n",
    "        break\n",
    "\n",
    "    prev_error = square_distance_lose_fn(y_true, next_bias, next_slope)"
   ],
   "metadata": {
    "collapsed": false,
    "pycharm": {
     "name": "#%%\n"
    }
   }
  },
  {
   "cell_type": "code",
   "execution_count": 304,
   "outputs": [
    {
     "data": {
      "text/plain": "7.990420650769884"
     },
     "execution_count": 304,
     "metadata": {},
     "output_type": "execute_result"
    },
    {
     "data": {
      "text/plain": "<Figure size 432x288 with 1 Axes>",
      "image/png": "[encoded data removed]"
     },
     "metadata": {
      "needs_background": "light"
     },
     "output_type": "display_data"
    }
   ],
   "source": [
    "plt.plot(X, y_true, 'ro')\n",
    "plt.grid(True)\n",
    "plt.plot(X, next_bias + next_slope * X, 'g--')\n",
    "\n",
    "square_distance_lose_fn(y_true, next_bias, next_slope)"
   ],
   "metadata": {
    "collapsed": false,
    "pycharm": {
     "name": "#%%\n"
    }
   }
  }
 ],
 "metadata": {
  "kernelspec": {
   "display_name": "Python 3",
   "language": "python",
   "name": "python3"
  },
  "language_info": {
   "codemirror_mode": {
    "name": "ipython",
    "version": 2
   },
   "file_extension": ".py",
   "mimetype": "text/x-python",
   "name": "python",
   "nbconvert_exporter": "python",
   "pygments_lexer": "ipython2",
   "version": "2.7.6"
  }
 },
 "nbformat": 4,
 "nbformat_minor": 0
}